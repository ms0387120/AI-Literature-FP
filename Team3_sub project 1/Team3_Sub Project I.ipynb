{
 "cells": [
  {
   "cell_type": "markdown",
   "metadata": {},
   "source": [
    "# Team3_Sub Project I"
   ]
  },
  {
   "cell_type": "markdown",
   "metadata": {},
   "source": [
    "* 組員：\n",
    "\n",
    "    * 107065501 蘇玫如\n",
    "    * 107065527 段凱文\n",
    "\n",
    "#### 以下分別用「三隻小豬」（老師給的testcase）來作示範，另外用「小紅帽」的文本來測試"
   ]
  },
  {
   "cell_type": "markdown",
   "metadata": {},
   "source": [
    "## Import"
   ]
  },
  {
   "cell_type": "code",
   "execution_count": 1,
   "metadata": {},
   "outputs": [],
   "source": [
    "from nltk.tokenize.stanford_segmenter import StanfordSegmenter\n",
    "from nltk.parse import CoreNLPParser\n",
    "from nltk.parse import corenlp\n",
    "from nltk.tag import StanfordNERTagger\n",
    "from nltk.tag import StanfordPOSTagger\n",
    "from nltk.parse.stanford import StanfordParser\n",
    "from nltk import Tree\n",
    "from nltk.parse.stanford import StanfordDependencyParser\n",
    "import jieba\n",
    "from collections import Counter"
   ]
  },
  {
   "cell_type": "markdown",
   "metadata": {},
   "source": [
    "## 設定環境變數"
   ]
  },
  {
   "cell_type": "code",
   "execution_count": 2,
   "metadata": {},
   "outputs": [],
   "source": [
    "import os\n",
    "\n",
    "os.environ[\"JAVA_HOME\"] = \"/Library/Java/JavaVirtualMachines/jdk-11.0.2.jdk/Contents/Home/bin/java\" \n",
    "os.environ[\"CLASSPATH\"] = \"/Users/sumeiru/Desktop/StanfordNLP/StanfordNLP/jars\"\n",
    "os.environ[\"STANFORD_MODELS\"] = \"/Users/sumeiru/Desktop/StanfordNLP/StanfordNLP/models\""
   ]
  },
  {
   "cell_type": "markdown",
   "metadata": {},
   "source": [
    "## NN_Default"
   ]
  },
  {
   "cell_type": "markdown",
   "metadata": {},
   "source": [
    "由於 Stanford NLP 用 POS tagging 出來的字並不完全適用於「童話故事集」，故需要自行初始 NN_Default，讓我們的Parser更精準"
   ]
  },
  {
   "cell_type": "code",
   "execution_count": 3,
   "metadata": {},
   "outputs": [],
   "source": [
    "NN_except=['個','誰','時','兩','一']\n",
    "\n",
    "loc = ['稻草屋','水潭', '房子','城堡','木屋子','磚屋','森林','高塔','河','家','奶奶家','王宮','花園','廚房']\n",
    "char_except = ['好孩子','身邊說','人們心中', '美好願望', '好幾', '個個', '小女兒', '美如天仙','小公主','嚴冬時節', '大雪片', '窗子邊', '針線活兒', '寒風捲著', '捲著雪片', '烏木窗臺', '針口流了', '三點血滴', '飄進窗子', '鮮紅血滴', '烏木窗臺', '血一樣', '這窗子','他們','你們','我們','弟弟']\n",
    "\n",
    "\n",
    "family_member = ['祖父','祖母','爺爺','奶奶','外公','外婆','爸爸','媽媽','叔叔','舅舅','阿姨','嬸嬸','後母','姊姊','姐姐','繼母','姊妹','大哥','二哥','小弟']\n",
    "passerby = ['公主','王子','女巫','狐狸','國王','皇后','獵人','王后','小矮人','魔鏡','野狼','妖精','精靈','僕人','灰姑娘','大臣']"
   ]
  },
  {
   "cell_type": "markdown",
   "metadata": {},
   "source": [
    "## Demo_三隻小豬"
   ]
  },
  {
   "cell_type": "markdown",
   "metadata": {},
   "source": [
    "### Read Input File"
   ]
  },
  {
   "cell_type": "code",
   "execution_count": 4,
   "metadata": {},
   "outputs": [
    {
     "name": "stdout",
     "output_type": "stream",
     "text": [
      "從前，有一隻胖胖的豬媽媽，她生了三隻小豬。最大的小豬：豬大哥很貪睡，很懶惰。一天到晚都在打瞌睡。第二個小豬：豬二哥很愛吃，他也很懶惰。幸好最小的小豬：豬小弟是個勤勞的好孩子。常常努力的工作。\n",
      "\n",
      "\n",
      "\n",
      "有一天，豬媽媽告訴他們說：「你們都長大了，應該自己蓋房子，自己住，自己種田，自己生活。我要你們自己照顧自己。」\n",
      "\n",
      "\n",
      "\n",
      "豬大哥噘起嘴，懶洋洋走出家門。「咿咿．．．．．好討厭哦！」豬大哥想一想說：「蓋一棟稻草屋吧，那最簡單了。」\n",
      "\n",
      "\n",
      "\n",
      "稻草屋很快的蓋好了，豬大哥好得意，他馬上去找兩個弟弟來，很驕傲的對他們說：「我的房子蓋好了，很漂亮吧～，你們也快一點蓋吧！」\n",
      "\n",
      "\n",
      "\n",
      " \n",
      "\n",
      "\n",
      "\n",
      "豬二哥看見說：「哇，果然很漂亮，大哥，你真了不起啊！」\n",
      "\n",
      "\n",
      "\n",
      "可是豬小弟並不以為然，他說：「哥，你不擔心稻草屋會被風吹倒嗎？」\n",
      "\n",
      "\n",
      "\n",
      "豬二哥想了想，說：「稻草屋會被風吹倒，那我就用木頭來蓋好了，木屋較重，不怕風吹。」\n",
      "\n",
      "\n",
      "\n",
      "豬二哥決定以後，「咚咚咚，咚咚咚！」他很認真的工作，一會兒敲敲釘子，一會兒鋸木頭。很快的，一棟木屋蓋好了。\n",
      "\n",
      "\n",
      "\n",
      "豬二哥趕忙把哥哥和弟弟都請來，驕傲的說：「你們看，這麼漂亮的房子！而且釘得很牢固，不會被風吹倒，我真的好棒呀！」\n",
      "\n",
      "\n",
      "\n",
      "豬小弟說：「木屋雖然不會被風吹倒，可是用力打，木頭會被打斷，房子就垮了。」\n",
      "\n",
      "\n",
      "\n",
      "「討厭！」豬二哥罵小弟說：「你以為你最聰明？看你搬磚頭搬一整天了，房子還沒蓋出來。笨蛋～～」\n",
      "\n",
      "\n",
      "\n",
      "豬小弟不慌不忙說：「我蓋房子雖然比你們慢，但是我要蓋的房子不怕風吹，也不怕敲打，紅磚房子最牢固了。」\n",
      "\n",
      "\n",
      "\n",
      "豬小弟不理會哥哥的嘲笑，他搬好了磚塊，又搬水泥，他把水泥和好了，開始堆砌磚塊，一塊一塊將抹上水泥的磚頭堆砌起來。豬小弟心理想：你們不要笑我，等我蓋好了，你們就知道了，我的房子比什麼都堅固，野狼來了我也不怕呢！\n",
      "\n",
      "\n",
      "\n",
      "豬小弟繼續加油工作，他趕呀趕，趕到天黑，月亮掛在天上了，他的紅磚房子才好不容易蓋好了。豬小弟正想休息，卻聽到了大野狼的吼叫聲。\n",
      "\n",
      "\n",
      "\n",
      "豬小弟猛吸一口氣說：「幸好房子蓋好了，我不怕大野狼。」\n",
      "\n",
      "\n",
      "\n",
      "這時兩個豬哥哥也聽到了野狼的吼叫聲，怕得發抖，他們怕野狼來，所以整夜都不敢安心睡覺。\n",
      "\n",
      "\n",
      "\n",
      "隔天，豬媽媽要三隻小豬到田裡工作，沒想到走到半路的時候，他們被一隻可怕的大野狼發現了，野狼一直跟蹤他們。野狼決定先吃豬大哥。\n",
      "\n",
      "\n",
      "\n",
      "豬大哥剛回到家，就聽到大野狼的聲音：「砰砰砰！小豬朋友，快給我開門！」野狼叫門叫得好兇。豬大哥嚇得臉都白了，他趕緊拿一把大鎖，把門緊緊鎖了起來。可是野狼哈哈大笑說：「你這個大笨蛋，這種稻草屋，我吹一口氣就倒了。」他說完話，用力一吹，果然把稻草屋吹倒了，豬大哥嚇得直跑到豬二哥家。\n",
      "\n",
      "\n",
      "\n",
      "「救命呀！」大哥慌慌張張跑進豬二哥的木屋子，趕忙把大門閂上，怕野狼闖進來。可是野狼吼叫說：「木頭屋子一樣擋不住我，我一定要把你吃掉！」\n",
      "\n",
      "\n",
      "\n",
      "兩隻小豬怕得縮著身子擠在一起，頭上直冒冷汗。因為野狼怕把門打壞了，「砰～～」，門板發出吱吱吱的斷裂聲，兩隻小豬眼看野狼就要衝進來了，他們亂闖亂撞，結果撞倒了木屋子，他們直奔到豬小弟的家。野狼也一直在身後追趕他們。\n",
      "\n",
      "\n",
      "\n",
      "兩隻小豬逃呀逃呀，逃到小弟弟的家中。「弟弟，弟弟，小．．．．弟弟，野狼在我們．．身．．．後．．．」豬大哥上氣不接下氣的說：「快把門鎖緊，不然我們會被吃掉的。」豬小弟卻一點都不擔心，他說：「怕什麼？這麼堅固的磚屋，野狼進不來的。」\n",
      "\n",
      "\n",
      "\n",
      "很快的，野狼就追來了。他生氣的說：「死小豬，看我把你們的房子撞倒，你們就要被我吃掉了。」野狼說著說的開始撞牆了。「呀！～～」他使出全身力氣，向磚牆猛撞過去！\n",
      "\n",
      "\n",
      "\n",
      "「啪啦！」一聲，磚牆沒被撞倒，野狼的骨頭卻斷了，「哎唷，痛死我了，痛死我了！」野狼哭哭啼啼的回家去了。\n",
      "\n",
      "\n",
      "\n",
      "「萬歲！」三隻小豬很高興的叫起來。從此，他們三個兄弟住在一起，每天一起吃飯睡覺，也一起工作，日子過得很快樂，而且野狼一直沒再出現呢！\n",
      "\n",
      "\n",
      "\n"
     ]
    }
   ],
   "source": [
    "f = open(\"三隻小豬.txt\", \"r\")\n",
    "#print(f.readline())\n",
    "for x in f:\n",
    "    print(x)"
   ]
  },
  {
   "cell_type": "markdown",
   "metadata": {},
   "source": [
    "# I. Character"
   ]
  },
  {
   "cell_type": "markdown",
   "metadata": {},
   "source": [
    "### Step1. 文章內所有可能角色"
   ]
  },
  {
   "cell_type": "code",
   "execution_count": 5,
   "metadata": {},
   "outputs": [
    {
     "name": "stderr",
     "output_type": "stream",
     "text": [
      "Building prefix dict from the default dictionary ...\n",
      "Loading model from cache /var/folders/r5/tbkms0z97j1f4v0xf38zg5h00000gn/T/jieba.cache\n",
      "Loading model cost 0.490 seconds.\n",
      "Prefix dict has been built succesfully.\n"
     ]
    },
    {
     "name": "stdout",
     "output_type": "stream",
     "text": [
      "['豬', '豬媽媽', '媽媽', '小豬', '小豬', '豬', '豬大哥', '大哥', '小豬', '豬', '豬二哥', '二哥', '小豬', '小弟', '勤勞', '孩子', '工作', '媽媽', '他們說', '說', '房子', '生活', '大哥', '嘴', '懶洋洋', '家門', '咿咿', '豬', '豬大哥', '大哥', '稻草', '稻草屋', '屋', '稻草', '稻草屋', '屋', '大哥', '兩', '弟弟來', '來', '對', '對他們', '他們說', '說', '房子', '二哥', '說', '大哥', '小弟', '小弟並', '並', '哥', '稻草', '稻草屋會', '屋會', '嗎', '二哥', '說', '稻草', '稻草屋會', '屋會', '木頭', '木屋', '木屋較', '較', '二哥', '咚咚', '咚咚咚', '咚', '咚', '工作', '釘子', '頭', '木屋', '二哥', '趕忙', '哥哥', '說', '房子', '小弟', '小弟說', '說', '木屋', '木頭', '房子', '討厭', '二哥', '二哥罵', '罵', '罵小弟', '小弟', '小弟說', '說', '房子', '蓋出來', '笨蛋', '小弟', '房子', '房子', '房子', '豬', '豬小弟', '小弟', '哥哥', '嘲笑', '水泥', '水泥', '好了', '磚塊', '將', '水泥', '磚頭', '小弟', '小弟心理', '心理', '房子', '什麼', '野狼', '小弟', '小弟繼續', '繼續', '工作', '天黑', '月亮', '天上', '紅磚', '紅磚房子', '房子', '豬', '豬小弟', '小弟', '大野狼', '野狼', '吼叫聲', '小弟', '小弟猛吸', '猛吸', '房子', '大野狼', '野狼', '這時', '這時兩', '兩', '兩個', '個', '個豬', '豬', '豬哥哥', '哥哥', '野狼', '吼叫聲', '發抖', '野狼', '野狼來', '來', '整夜', '媽媽', '小豬', '裡', '裡工作', '工作', '半路', '時候', '大野狼', '野狼', '野狼', '野狼', '豬', '豬大哥', '大哥', '大哥', '家', '大野狼', '野狼', '聲音', '小豬', '小豬朋友', '朋友', '野狼', '好兇', '大哥', '臉', '大鎖', '門', '鎖了', '鎖了起來', '起來', '個', '大笨蛋', '笨蛋', '這', '稻草', '稻草屋', '屋', '話', '稻草', '稻草屋', '屋', '大哥', '大哥', '二哥', '木屋', '木屋子', '子', '大門閂', '門閂', '野狼', '野狼闖進來', '闖進來', '野狼吼叫', '吼叫', '吼叫說', '說', '木頭', '木頭屋子', '屋子', '兩', '兩隻', '隻', '隻小豬', '小豬', '身子', '直冒', '門', '門板', '吱吱', '斷裂聲', '兩', '兩隻', '隻', '隻小豬', '小豬', '野狼', '他們亂闖', '亂闖', '結果', '木屋', '木屋子', '子', '小弟', '家', '野狼', '兩', '兩隻', '隻', '隻小豬', '小豬', '小弟弟', '家中', '野狼', '身', '豬', '豬大哥', '大哥', '說', '門', '門鎖緊', '鎖緊', '會', '豬', '豬小弟', '小弟', '小弟卻', '卻', '怕什麼', '磚屋', '野狼進不來', '進不來', '野狼', '說', '小豬', '房子', '野狼', '說', '開始', '全身', '磚牆', '啪啦', '野狼', '骨頭', '斷了', '唷', '野狼', '萬歲', '小豬', '兄弟', '睡覺', '日子', '野狼']\n"
     ]
    }
   ],
   "source": [
    "f = open(\"三隻小豬.txt\", \"r\")\n",
    "temp = []\n",
    "char=[]\n",
    "w = []\n",
    "t = []\n",
    "\n",
    "\n",
    "for x in f:\n",
    "    \n",
    "    seg_list = jieba.cut(x)\n",
    "    tokens = \"/\".join(seg_list)\n",
    "    tokenizer = tokens.split(\"/\")\n",
    "    #print(tokenizer)\n",
    "\n",
    "    zh_tagger = StanfordPOSTagger('chinese-nodistsim.tagger')\n",
    "    #print(zh_tagger.tag(tokens.split(\"/\")))\n",
    "    for _, word_and_tag in  zh_tagger.tag(tokens.split(\"/\")):\n",
    "        word, tag = word_and_tag.split('#')\n",
    "        #print(word,tag)\n",
    "        w.append(word)\n",
    "        t.append(tag)\n",
    "for i in range(1,len(w)):\n",
    "    if(t[i-1]==\"NN\" and t[i]==\"NN\"):\n",
    "        a = w[i-1]+w[i]\n",
    "        if(a not in char):\n",
    "            temp.append(a)\n",
    "    \n",
    "    elif(t[i-1]==\"JJ\" and t[i]==\"NN\"):\n",
    "        a = w[i-1]+w[i]\n",
    "        if(a not in char):\n",
    "            temp.append(a)\n",
    "    if(t[i]==\"NN\" or t[i]==\"NR\"):\n",
    "        a = w[i]\n",
    "        if(a not in char):\n",
    "            temp.append(a)\n",
    "\n",
    "i = 0\n",
    "while i < len(temp):\n",
    "    if temp[i] in char_except:\n",
    "        del temp[i]\n",
    "    else:\n",
    "        i += 1\n",
    "            \n",
    "print(temp)"
   ]
  },
  {
   "cell_type": "markdown",
   "metadata": {},
   "source": [
    "### Step2. 找出故事中親人關係"
   ]
  },
  {
   "cell_type": "code",
   "execution_count": 6,
   "metadata": {},
   "outputs": [
    {
     "name": "stdout",
     "output_type": "stream",
     "text": [
      "['媽媽', '大哥', '二哥', '小弟']\n"
     ]
    }
   ],
   "source": [
    "for i in range(len(temp)):\n",
    "    if(temp[i] in family_member and temp[i] not in char):\n",
    "        char.append(temp[i])\n",
    "print(char)"
   ]
  },
  {
   "cell_type": "markdown",
   "metadata": {},
   "source": [
    "### Step3. 找出故事中第三方角色（路人、壞人、跑龍套等等）"
   ]
  },
  {
   "cell_type": "code",
   "execution_count": 7,
   "metadata": {},
   "outputs": [
    {
     "name": "stdout",
     "output_type": "stream",
     "text": [
      "['媽媽', '大哥', '二哥', '小弟', '野狼']\n"
     ]
    }
   ],
   "source": [
    "for i in range(len(temp)):\n",
    "    if(temp[i] in passerby and temp[i] not in char):\n",
    "        char.append(temp[i])\n",
    "print(char)"
   ]
  },
  {
   "cell_type": "markdown",
   "metadata": {},
   "source": [
    "### Step4. 計算可能角色 Top 3"
   ]
  },
  {
   "cell_type": "markdown",
   "metadata": {},
   "source": [
    "由於某些名詞在故事中頻繁出現，代表有其一定代表性，故可能是**角色候選人**"
   ]
  },
  {
   "cell_type": "code",
   "execution_count": 8,
   "metadata": {},
   "outputs": [
    {
     "name": "stdout",
     "output_type": "stream",
     "text": [
      "[('野狼', 19), ('小弟', 12), ('房子', 12)]\n"
     ]
    }
   ],
   "source": [
    "from collections import Counter\n",
    "word_counts = Counter(temp)\n",
    "top_three = word_counts.most_common(3)\n",
    "print(top_three)"
   ]
  },
  {
   "cell_type": "markdown",
   "metadata": {},
   "source": [
    "### Step5. 增加「可能角色」、移除字典提及的特殊案例"
   ]
  },
  {
   "cell_type": "code",
   "execution_count": 9,
   "metadata": {},
   "outputs": [
    {
     "name": "stdout",
     "output_type": "stream",
     "text": [
      "['媽媽', '大哥', '二哥', '小弟', '野狼']\n"
     ]
    }
   ],
   "source": [
    "for i in range(len(top_three)):\n",
    "    if(top_three[i][0] not in loc and top_three[i][0] not in family_member and top_three[i][0] not in char and top_three[i][0] not in NN_except):\n",
    "        char.append(top_three[i][0])\n",
    "print(char)"
   ]
  },
  {
   "cell_type": "markdown",
   "metadata": {},
   "source": [
    "### Step6. 確實移除角色串列中的重複值"
   ]
  },
  {
   "cell_type": "code",
   "execution_count": 10,
   "metadata": {},
   "outputs": [],
   "source": [
    "i = 0\n",
    "while i < len(char):\n",
    "    if char[i] in char_except:\n",
    "        del char[i]\n",
    "    else:\n",
    "        i += 1"
   ]
  },
  {
   "cell_type": "markdown",
   "metadata": {},
   "source": [
    "## Character Output"
   ]
  },
  {
   "cell_type": "code",
   "execution_count": 11,
   "metadata": {},
   "outputs": [
    {
     "data": {
      "text/plain": [
       "['媽媽', '大哥', '二哥', '小弟', '野狼']"
      ]
     },
     "execution_count": 11,
     "metadata": {},
     "output_type": "execute_result"
    }
   ],
   "source": [
    "char"
   ]
  },
  {
   "cell_type": "markdown",
   "metadata": {},
   "source": [
    "# II. Dialogue"
   ]
  },
  {
   "cell_type": "markdown",
   "metadata": {},
   "source": [
    "### Step1. 抓出含對話框的文本"
   ]
  },
  {
   "cell_type": "code",
   "execution_count": 12,
   "metadata": {},
   "outputs": [
    {
     "name": "stdout",
     "output_type": "stream",
     "text": [
      "有一天，豬媽媽告訴他們說：「你們都長大了，應該自己蓋房子，自己住，自己種田，自己生活。我要你們自己照顧自己。」\n",
      "\n",
      "豬大哥噘起嘴，懶洋洋走出家門。「咿咿．．．．．好討厭哦！」豬大哥想一想說：「蓋一棟稻草屋吧，那最簡單了。」\n",
      "\n",
      "稻草屋很快的蓋好了，豬大哥好得意，他馬上去找兩個弟弟來，很驕傲的對他們說：「我的房子蓋好了，很漂亮吧～，你們也快一點蓋吧！」\n",
      "\n",
      "豬二哥看見說：「哇，果然很漂亮，大哥，你真了不起啊！」\n",
      "\n",
      "可是豬小弟並不以為然，他說：「哥，你不擔心稻草屋會被風吹倒嗎？」\n",
      "\n",
      "豬二哥想了想，說：「稻草屋會被風吹倒，那我就用木頭來蓋好了，木屋較重，不怕風吹。」\n",
      "\n",
      "豬二哥決定以後，「咚咚咚，咚咚咚！」他很認真的工作，一會兒敲敲釘子，一會兒鋸木頭。很快的，一棟木屋蓋好了。\n",
      "\n",
      "豬二哥趕忙把哥哥和弟弟都請來，驕傲的說：「你們看，這麼漂亮的房子！而且釘得很牢固，不會被風吹倒，我真的好棒呀！」\n",
      "\n",
      "豬小弟說：「木屋雖然不會被風吹倒，可是用力打，木頭會被打斷，房子就垮了。」\n",
      "\n",
      "「討厭！」豬二哥罵小弟說：「你以為你最聰明？看你搬磚頭搬一整天了，房子還沒蓋出來。笨蛋～～」\n",
      "\n",
      "豬小弟不慌不忙說：「我蓋房子雖然比你們慢，但是我要蓋的房子不怕風吹，也不怕敲打，紅磚房子最牢固了。」\n",
      "\n",
      "豬小弟猛吸一口氣說：「幸好房子蓋好了，我不怕大野狼。」\n",
      "\n",
      "豬大哥剛回到家，就聽到大野狼的聲音：「砰砰砰！小豬朋友，快給我開門！」野狼叫門叫得好兇。豬大哥嚇得臉都白了，他趕緊拿一把大鎖，把門緊緊鎖了起來。可是野狼哈哈大笑說：「你這個大笨蛋，這種稻草屋，我吹一口氣就倒了。」他說完話，用力一吹，果然把稻草屋吹倒了，豬大哥嚇得直跑到豬二哥家。\n",
      "\n",
      "「救命呀！」大哥慌慌張張跑進豬二哥的木屋子，趕忙把大門閂上，怕野狼闖進來。可是野狼吼叫說：「木頭屋子一樣擋不住我，我一定要把你吃掉！」\n",
      "\n",
      "兩隻小豬怕得縮著身子擠在一起，頭上直冒冷汗。因為野狼怕把門打壞了，「砰～～」，門板發出吱吱吱的斷裂聲，兩隻小豬眼看野狼就要衝進來了，他們亂闖亂撞，結果撞倒了木屋子，他們直奔到豬小弟的家。野狼也一直在身後追趕他們。\n",
      "\n",
      "兩隻小豬逃呀逃呀，逃到小弟弟的家中。「弟弟，弟弟，小．．．．弟弟，野狼在我們．．身．．．後．．．」豬大哥上氣不接下氣的說：「快把門鎖緊，不然我們會被吃掉的。」豬小弟卻一點都不擔心，他說：「怕什麼？這麼堅固的磚屋，野狼進不來的。」\n",
      "\n",
      "很快的，野狼就追來了。他生氣的說：「死小豬，看我把你們的房子撞倒，你們就要被我吃掉了。」野狼說著說的開始撞牆了。「呀！～～」他使出全身力氣，向磚牆猛撞過去！\n",
      "\n",
      "「啪啦！」一聲，磚牆沒被撞倒，野狼的骨頭卻斷了，「哎唷，痛死我了，痛死我了！」野狼哭哭啼啼的回家去了。\n",
      "\n",
      "「萬歲！」三隻小豬很高興的叫起來。從此，他們三個兄弟住在一起，每天一起吃飯睡覺，也一起工作，日子過得很快樂，而且野狼一直沒再出現呢！\n",
      "\n"
     ]
    }
   ],
   "source": [
    "f = open(\"三隻小豬.txt\", \"r\")\n",
    "\n",
    "for x in f:\n",
    "    if(\"「\" in x and \"」\" in x):\n",
    "        print(x)"
   ]
  },
  {
   "cell_type": "markdown",
   "metadata": {},
   "source": [
    "## Dialogue Output"
   ]
  },
  {
   "cell_type": "markdown",
   "metadata": {},
   "source": [
    "* 求出（對話內容,說話人）"
   ]
  },
  {
   "cell_type": "code",
   "execution_count": 13,
   "metadata": {
    "scrolled": false
   },
   "outputs": [
    {
     "name": "stderr",
     "output_type": "stream",
     "text": [
      "/anaconda3/lib/python3.6/site-packages/ipykernel_launcher.py:136: DeprecationWarning: The StanfordDependencyParser will be deprecated\n",
      "Please use \u001b[91mnltk.parse.corenlp.StanforCoreNLPDependencyParser\u001b[0m instead.\n"
     ]
    },
    {
     "name": "stdout",
     "output_type": "stream",
     "text": [
      "('你們都長大了，應該自己蓋房子，自己住，自己種田，自己生活。我要你們自己照顧自己。', '媽媽')\n"
     ]
    },
    {
     "name": "stderr",
     "output_type": "stream",
     "text": [
      "/anaconda3/lib/python3.6/site-packages/ipykernel_launcher.py:109: DeprecationWarning: The StanfordDependencyParser will be deprecated\n",
      "Please use \u001b[91mnltk.parse.corenlp.StanforCoreNLPDependencyParser\u001b[0m instead.\n"
     ]
    },
    {
     "name": "stdout",
     "output_type": "stream",
     "text": [
      "('蓋一棟稻草屋吧，那最簡單了。', '大哥')\n",
      "('我的房子蓋好了，很漂亮吧～，你們也快一點蓋吧！', '大哥')\n",
      "('哇，果然很漂亮，大哥，你真了不起啊！', '二哥')\n",
      "('哥，你不擔心稻草屋會被風吹倒嗎？', '小弟')\n",
      "('稻草屋會被風吹倒，那我就用木頭來蓋好了，木屋較重，不怕風吹。', '二哥')\n",
      "('咚咚咚，咚咚咚！', '二哥')\n",
      "('你們看，這麼漂亮的房子！而且釘得很牢固，不會被風吹倒，我真的好棒呀！', '二哥')\n",
      "('木屋雖然不會被風吹倒，可是用力打，木頭會被打斷，房子就垮了。', '小弟')\n"
     ]
    },
    {
     "name": "stderr",
     "output_type": "stream",
     "text": [
      "/anaconda3/lib/python3.6/site-packages/ipykernel_launcher.py:37: DeprecationWarning: The StanfordDependencyParser will be deprecated\n",
      "Please use \u001b[91mnltk.parse.corenlp.StanforCoreNLPDependencyParser\u001b[0m instead.\n"
     ]
    },
    {
     "name": "stdout",
     "output_type": "stream",
     "text": [
      "('你以為你最聰明？看你搬磚頭搬一整天了，房子還沒蓋出來。笨蛋～～', '二哥')\n",
      "('我蓋房子雖然比你們慢，但是我要蓋的房子不怕風吹，也不怕敲打，紅磚房子最牢固了。', '小弟')\n",
      "('幸好房子蓋好了，我不怕大野狼。', '小弟')\n",
      "('你這個大笨蛋，這種稻草屋，我吹一口氣就倒了。', '大哥')\n",
      "('木頭屋子一樣擋不住我，我一定要把你吃掉！', '大哥')\n",
      "('砰～～', '野狼')\n",
      "('快把門鎖緊，不然我們會被吃掉的。', '大哥')\n",
      "('呀！～～', '野狼')\n",
      "('哎唷，痛死我了，痛死我了！', '野狼')\n"
     ]
    },
    {
     "name": "stderr",
     "output_type": "stream",
     "text": [
      "/anaconda3/lib/python3.6/site-packages/ipykernel_launcher.py:64: DeprecationWarning: The StanfordDependencyParser will be deprecated\n",
      "Please use \u001b[91mnltk.parse.corenlp.StanforCoreNLPDependencyParser\u001b[0m instead.\n"
     ]
    },
    {
     "name": "stdout",
     "output_type": "stream",
     "text": [
      "('萬歲！', '野狼')\n"
     ]
    }
   ],
   "source": [
    "f = open(\"三隻小豬.txt\", \"r\")\n",
    "\n",
    "for x in f:\n",
    "    if(\"「\" in x and \"」\" in x):\n",
    "        \n",
    "        # case 3-2\n",
    "        if(x[0]==\"「\"):\n",
    "            upper = (x.split(\"「\"))\n",
    "            two = upper[1]\n",
    "\n",
    "            if(len(upper)>2):\n",
    "                dia1 = upper[1].split(\"」\")[0]\n",
    "                sentence1 =  two.split(\"」\")[1]\n",
    "                sentence2 = sentence1\n",
    "                dia2 = upper[2].split(\"」\")[0]\n",
    "                \n",
    "                sentence = []\n",
    "                sentence.append(sentence1)\n",
    "                sentence.append(sentence2)\n",
    "\n",
    "                dialogue = []\n",
    "                dialogue.append(dia1)\n",
    "                dialogue.append(dia2)\n",
    "\n",
    "                for i in range(2):\n",
    "\n",
    "                    seg_list = jieba.cut(sentence[i]) \n",
    "                    tokens = \"/\".join(seg_list)\n",
    "                    tokenizer = tokens.split(\"/\")\n",
    "                    #print(tokenizer)\n",
    "                    for j in range(len(char)):\n",
    "                        if(char[j] in tokenizer):\n",
    "                            A = char[j]\n",
    "                            break\n",
    "                    B=A\n",
    "\n",
    "                    zh_dependency_parser = StanfordDependencyParser(\"/Users/sumeiru/Desktop/StanfordNLP/StanfordNLP/jars/stanford-parser.jar\",\"/Users/sumeiru/Desktop/StanfordNLP/StanfordNLP/jars/stanford-parser-3.9.2-models.jar\",\"/Users/sumeiru/Desktop/StanfordNLP/StanfordNLP/models/chineseFactored.ser.gz\")\n",
    "                    ans = list(zh_dependency_parser.parse(tokens.split(\"/\")))\n",
    "                    for row in ans[0].triples():\n",
    "                        if(row[1]==\"nsubj\" and row[2][0] in char):\n",
    "                            A = row[2][0]\n",
    "                            #print(\"from: \"+A)\n",
    "                        elif(row[1]==\"compound:nn\" and row[2][0] in char_except):\n",
    "                            B = row[2][0]\n",
    "                            #print(\"to: \"+B)    \n",
    "                \n",
    "                print((dialogue[i],A))\n",
    "                \n",
    "            # case 3-1\n",
    "            else:\n",
    "                dialogue = upper[1].split(\"」\")[0]\n",
    "                sentence = upper[1].split(\"」\")[1]\n",
    "                \n",
    "                seg_list = jieba.cut(sentence) \n",
    "                tokens = \"/\".join(seg_list)\n",
    "                tokenizer = tokens.split(\"/\")\n",
    "                #print(tokenizer)\n",
    "                for j in range(len(char)):\n",
    "                        if(char[j] in tokenizer):\n",
    "                            A = char[j]\n",
    "                            break\n",
    "                B=A\n",
    "                \n",
    "                zh_dependency_parser = StanfordDependencyParser(\"/Users/sumeiru/Desktop/StanfordNLP/StanfordNLP/jars/stanford-parser.jar\",\"/Users/sumeiru/Desktop/StanfordNLP/StanfordNLP/jars/stanford-parser-3.9.2-models.jar\",\"/Users/sumeiru/Desktop/StanfordNLP/StanfordNLP/models/chineseFactored.ser.gz\")\n",
    "                ans = list(zh_dependency_parser.parse(tokens.split(\"/\")))\n",
    "                \n",
    "                for row in ans[0].triples():\n",
    "                    if(row[1]==\"nsubj\" and row[2][0] in char):\n",
    "                        A = row[2][0]\n",
    "                        #print(\"from: \"+A)\n",
    "                    elif(row[1]==\"compound:nn\" and row[2][0] in char_except):\n",
    "                        B = row[2][0]\n",
    "                        #print(\"to: \"+B)\n",
    "\n",
    "                print((dialogue,A))\n",
    "                   \n",
    "        # case 1, 2\n",
    "        else:\n",
    "            upper = (x.split(\"「\"))\n",
    "            two = upper[1]\n",
    "\n",
    "            # case 2\n",
    "            if(len(upper)>2):\n",
    "                sentence1 = upper[0]\n",
    "                dia1 =  upper[1].split(\"」\")[0]\n",
    "                sentence2 = (two.split(\"」\"))[1]\n",
    "                dia2 = upper[2].split(\"」\")[0]\n",
    "                \n",
    "                sentence = []\n",
    "                sentence.append(sentence1)\n",
    "                sentence.append(sentence2)\n",
    "\n",
    "                dialogue = []\n",
    "                dialogue.append(dia1)\n",
    "                dialogue.append(dia2)\n",
    "\n",
    "                for i in range(2):\n",
    "\n",
    "                    seg_list = jieba.cut(sentence[i]) \n",
    "                    tokens = \"/\".join(seg_list)\n",
    "                    tokenizer = tokens.split(\"/\")\n",
    "                    #print(tokenizer)\n",
    "                    for j in range(len(char)):\n",
    "                        if(char[j] in tokenizer):\n",
    "                            A = char[j]\n",
    "                            break\n",
    "                    B=A\n",
    "\n",
    "                    zh_dependency_parser = StanfordDependencyParser(\"/Users/sumeiru/Desktop/StanfordNLP/StanfordNLP/jars/stanford-parser.jar\",\"/Users/sumeiru/Desktop/StanfordNLP/StanfordNLP/jars/stanford-parser-3.9.2-models.jar\",\"/Users/sumeiru/Desktop/StanfordNLP/StanfordNLP/models/chineseFactored.ser.gz\")\n",
    "                    ans = list(zh_dependency_parser.parse(tokens.split(\"/\")))\n",
    "                    for row in ans[0].triples():\n",
    "                        if(row[1]==\"nsubj\" and row[2][0] in char):\n",
    "                            A = row[2][0]\n",
    "                            #print(\"from: \"+A)\n",
    "                        elif(row[1]==\"compound:nn\" and row[2][0] in char_except):\n",
    "                            B = row[2][0]\n",
    "                            #print(\"to: \"+B)\n",
    "                \n",
    "                print((dialogue[i],A))\n",
    "                \n",
    "            # case 1\n",
    "            else:\n",
    "                sentence = upper[0]\n",
    "                dialogue = upper[1].split(\"」\")[0]\n",
    "                \n",
    "                seg_list = jieba.cut(sentence) \n",
    "                tokens = \"/\".join(seg_list)\n",
    "                tokenizer = tokens.split(\"/\")\n",
    "                #print(tokenizer)\n",
    "                for j in range(len(char)):\n",
    "                        if(char[j] in tokenizer):\n",
    "                            A = char[j]\n",
    "                            break\n",
    "                B=A\n",
    "\n",
    "                zh_dependency_parser = StanfordDependencyParser(\"/Users/sumeiru/Desktop/StanfordNLP/StanfordNLP/jars/stanford-parser.jar\",\"/Users/sumeiru/Desktop/StanfordNLP/StanfordNLP/jars/stanford-parser-3.9.2-models.jar\",\"/Users/sumeiru/Desktop/StanfordNLP/StanfordNLP/models/chineseFactored.ser.gz\")\n",
    "                ans = list(zh_dependency_parser.parse(tokens.split(\"/\")))\n",
    "                \n",
    "                for row in ans[0].triples():\n",
    "                    if(row[1]==\"nsubj\" and row[2][0] in char):\n",
    "                        A = row[2][0]\n",
    "                        #print(\"from: \"+A)\n",
    "                    elif(row[1]==\"compound:nn\" and row[2][0] in char_except):\n",
    "                        B = row[2][0]\n",
    "                        #print(\"to: \"+B)\n",
    "\n",
    "\n",
    "                print((dialogue,A))\n",
    "                "
   ]
  },
  {
   "cell_type": "markdown",
   "metadata": {},
   "source": [
    "# III. Location"
   ]
  },
  {
   "cell_type": "markdown",
   "metadata": {},
   "source": [
    "### Step1. 從名詞（temp）去查找對照的 loc_default，並存在 loc_temp"
   ]
  },
  {
   "cell_type": "code",
   "execution_count": 14,
   "metadata": {},
   "outputs": [
    {
     "name": "stdout",
     "output_type": "stream",
     "text": [
      "['房子', '稻草屋', '稻草屋', '房子', '房子', '房子', '房子', '房子', '房子', '房子', '房子', '房子', '房子', '家', '稻草屋', '稻草屋', '木屋子', '木屋子', '家', '磚屋', '房子']\n"
     ]
    }
   ],
   "source": [
    "from collections import Counter\n",
    "\n",
    "loc_temp = []\n",
    "\n",
    "for i in range(len(temp)):\n",
    "    if(temp[i] in loc):\n",
    "        loc_temp.append(temp[i])\n",
    "\n",
    "word_counts = Counter(loc_temp)\n",
    "        \n",
    "print(loc_temp)"
   ]
  },
  {
   "cell_type": "markdown",
   "metadata": {},
   "source": [
    "### Step2. 從 loc_temp 整理"
   ]
  },
  {
   "cell_type": "code",
   "execution_count": 15,
   "metadata": {},
   "outputs": [
    {
     "name": "stdout",
     "output_type": "stream",
     "text": [
      "[('房子', 12), ('稻草屋', 4), ('家', 2), ('木屋子', 2), ('磚屋', 1)]\n"
     ]
    }
   ],
   "source": [
    "word_counts = Counter(loc_temp)\n",
    "loc_counts = word_counts.most_common(len(loc_temp))\n",
    "print(loc_counts)"
   ]
  },
  {
   "cell_type": "markdown",
   "metadata": {},
   "source": [
    "## Location Output"
   ]
  },
  {
   "cell_type": "code",
   "execution_count": 16,
   "metadata": {},
   "outputs": [
    {
     "name": "stdout",
     "output_type": "stream",
     "text": [
      "['房子', '稻草屋', '家', '木屋子', '磚屋']\n"
     ]
    }
   ],
   "source": [
    "loc_set = []\n",
    "\n",
    "for i in range(len(loc_counts)):\n",
    "    loc_set.append(loc_counts[i][0])\n",
    "        \n",
    "print(loc_set)"
   ]
  },
  {
   "cell_type": "markdown",
   "metadata": {},
   "source": [
    "# IV. Event"
   ]
  },
  {
   "cell_type": "markdown",
   "metadata": {},
   "source": [
    "* 從非對話裡偵測人物角色（主體/受體），並印出（人物,描述）"
   ]
  },
  {
   "cell_type": "markdown",
   "metadata": {},
   "source": [
    "## Event Output"
   ]
  },
  {
   "cell_type": "code",
   "execution_count": 17,
   "metadata": {},
   "outputs": [
    {
     "name": "stdout",
     "output_type": "stream",
     "text": [
      "('媽媽', '從前，有一隻胖胖的豬媽媽，她生了三隻小豬')\n",
      "('大哥', '最大的小豬：豬大哥很貪睡，很懶惰')\n",
      "('二哥', '第二個小豬：豬二哥很愛吃，他也很懶惰')\n",
      "('小弟', '幸好最小的小豬：豬小弟是個勤勞的好孩子')\n",
      "('小弟', '豬小弟不理會哥哥的嘲笑，他搬好了磚塊，又搬水泥，他把水泥和好了，開始堆砌磚塊，一塊一塊將抹上水泥的磚頭堆砌起來')\n",
      "('小弟', '豬小弟心理想：你們不要笑我，等我蓋好了，你們就知道了，我的房子比什麼都堅固，野狼來了我也不怕呢！\\n')\n",
      "('野狼', '豬小弟心理想：你們不要笑我，等我蓋好了，你們就知道了，我的房子比什麼都堅固，野狼來了我也不怕呢！\\n')\n",
      "('小弟', '豬小弟繼續加油工作，他趕呀趕，趕到天黑，月亮掛在天上了，他的紅磚房子才好不容易蓋好了')\n",
      "('小弟', '豬小弟正想休息，卻聽到了大野狼的吼叫聲')\n",
      "('野狼', '豬小弟正想休息，卻聽到了大野狼的吼叫聲')\n",
      "('野狼', '這時兩個豬哥哥也聽到了野狼的吼叫聲，怕得發抖，他們怕野狼來，所以整夜都不敢安心睡覺')\n",
      "('媽媽', '隔天，豬媽媽要三隻小豬到田裡工作，沒想到走到半路的時候，他們被一隻可怕的大野狼發現了，野狼一直跟蹤他們')\n",
      "('野狼', '隔天，豬媽媽要三隻小豬到田裡工作，沒想到走到半路的時候，他們被一隻可怕的大野狼發現了，野狼一直跟蹤他們')\n",
      "('大哥', '野狼決定先吃豬大哥')\n",
      "('野狼', '野狼決定先吃豬大哥')\n"
     ]
    }
   ],
   "source": [
    "f = open(\"三隻小豬.txt\", \"r\")\n",
    "\n",
    "for x in f:\n",
    "    if(\"「\" not in x and \"」\" not in x):\n",
    "        #print(x)\n",
    "        #seg_list = jieba.cut(x) \n",
    "        #tokens = \"/\".join(seg_list)\n",
    "        #tokenizer = tokens.split(\"/\")\n",
    "        #print(tokenizer)\n",
    "        sentence = x.split(\"。\")\n",
    "        for j in range(len(sentence)):\n",
    "            for i in range(len(char)):\n",
    "                if(char[i] in sentence[j]):\n",
    "                    print((char[i],sentence[j]))"
   ]
  },
  {
   "cell_type": "markdown",
   "metadata": {},
   "source": [
    "## Demo_小紅帽"
   ]
  },
  {
   "cell_type": "code",
   "execution_count": 5,
   "metadata": {},
   "outputs": [
    {
     "name": "stdout",
     "output_type": "stream",
     "text": [
      "從前有個可愛的小姑娘，誰見了都喜歡，但最喜歡她的是她的奶奶，簡直是她要什麼就給她什麼。 一次，奶奶送給小姑娘一頂用絲絨做的小紅帽，戴在她的頭上正好合適。 從此，姑娘再也不願意戴任何別的帽子，於是大家便叫她'小紅帽'。\n",
      "\n",
      "\n",
      "\n",
      "一天，媽媽對小紅帽說：「來，小紅帽，這裡有一塊蛋糕和一瓶葡萄酒，快給奶奶送去，奶奶生病了，身子很虛弱，吃了這些就會好一些的。趁著現在天還沒有熱，趕緊動身吧。在路上要好好走，不要跑，也不要離開大路，否則你會摔跤的，那樣奶奶就什麼也吃不上了。到奶奶家的時候，別忘了說'早上好'，也不要一進屋就東瞧西瞅。」\n",
      "\n",
      "\n",
      "\n",
      "「我會小心的。」小紅帽對媽媽說，並且還和媽媽拉手作保證。\n",
      "\n",
      "\n",
      "\n",
      "奶奶住在村子外面的森林里，離小紅帽家有很長一段路。 小紅帽剛走進森林就碰到了一條狼。 小紅帽不知道狼是壞家伙，所以一點也不怕它。\n",
      "\n",
      "\n",
      "\n",
      "「你好，小紅帽」狼說。\n",
      "\n",
      "\n",
      "\n",
      "「謝謝你，狼先生。」小紅帽答。\n",
      "\n",
      "\n",
      "\n",
      "「小紅帽，這麼早要到哪裡去呀？」狼又問。\n",
      "\n",
      "\n",
      "\n",
      "「我要到奶奶家去。」小紅帽答。\n",
      "\n",
      "\n",
      "\n",
      "「你那圍裙下面有什麼呀？」狼又問。\n",
      "\n",
      "\n",
      "\n",
      "「蛋糕和葡萄酒。昨天我們家烤了一些蛋糕，可憐的奶奶生了病，要吃一些好東西才能恢復過來。」小紅帽答。\n",
      "\n",
      "\n",
      "\n",
      "「你奶奶住在哪裡呀，小紅帽？」狼再度好奇詢問。\n",
      "\n",
      "\n",
      "\n",
      "「進了林子還有一段路呢。她的房子就在三棵大橡樹下，低處圍著核桃樹籬笆。你一定知道的。」小紅帽說。\n",
      "\n",
      "\n",
      "\n",
      "狼在心中盤算著：「這小東西細皮嫩肉的，味道肯定比那老太婆要好。我要講究一下策略，讓她倆都逃不出我的手心。」\n",
      "\n",
      "\n",
      "\n",
      "於是它陪著小紅帽走了一會兒，然後說：「小紅帽，你看周圍這些花多麼美麗啊！幹嗎不回頭看一看呢？還有這些小鳥，它們唱得多麼動聽啊！你大概根本沒有聽到吧？林子里的一切多麼美好啊，而你卻只管往前走，就像是去上學一樣。」\n",
      "\n",
      "\n",
      "\n",
      "小紅帽抬起頭來，看到陽光在樹木間來回跳蕩，美麗的鮮花在四周開放，便想：「也許我該摘一把鮮花給奶奶，讓她高興高興。現在天色還早，我不會去遲的。」\n",
      "\n",
      "\n",
      "\n",
      "她於是離開大路，走進林子去採花。 她每採下一朵花，總覺得前面還有更美麗的花朵，便又向前走去，結果一直走到了林子深處。\n",
      "\n",
      "\n",
      "\n",
      "就在此時，狼卻直接跑到奶奶家，敲了敲門。\n",
      "\n",
      "\n",
      "\n",
      "「是誰呀？」，奶奶問。\n",
      "\n",
      "\n",
      "\n",
      "「是小紅帽，我給你送蛋糕和葡萄酒來了。快開門哪。」，狼假裝開心的回應著。\n",
      "\n",
      "\n",
      "\n",
      "「你拉一下門栓就行了，」奶奶大聲說，「我身上沒有力氣，起不來。」奶奶虛弱的回答\n",
      "\n",
      "\n",
      "\n",
      "狼剛拉起門栓，那門就開了。 狼二話沒說就衝到奶奶的床前，把奶奶吞進了肚子。 然後她穿上奶奶的衣服，戴上她的帽子，躺在床上，還拉上了簾子。\n",
      "\n",
      "\n",
      "\n",
      "可這時小紅帽還在跑來跑去地採花。 直到採了許多許多，她都拿不了啦，她才想起奶奶，重新上路去奶奶家。\n",
      "\n",
      "\n",
      "\n",
      "看到奶奶家的屋門敞開著，小紅帽感到很奇怪。 \n",
      "\n",
      "\n",
      "\n",
      "小紅帽一走進屋子就有一種異樣的感覺，心中便想：「天哪！平常我那麼喜歡來奶奶家，今天怎麼這樣害怕？」\n",
      "\n",
      "\n",
      "\n",
      "小紅帽大聲叫道：「早上好！」，可是沒有聽到回答。 她走到床前拉開帘子，只見奶奶躺在床上，帽子拉得低低的，把臉都遮住了，樣子非常奇怪。\n",
      "\n",
      "\n",
      "\n",
      "「哎，奶奶，你的耳朵怎麼這樣大呀？」小紅帽好奇的問。\n",
      "\n",
      "\n",
      "\n",
      "「為了更好地聽你說話呀，乖乖。」狼假裝虛弱的回應。\n",
      "\n",
      "\n",
      "\n",
      "「可是奶奶，你的眼睛怎麼這樣大呀？」小紅帽又問。\n",
      "\n",
      "\n",
      "\n",
      "「為了更清楚地看你呀，乖乖。」狼回答。\n",
      "\n",
      "\n",
      "\n",
      "「奶奶，你的手怎麼這樣大呀？」小紅帽又疑惑的詢問。\n",
      "\n",
      "\n",
      "\n",
      "「可以更好地抱著你呀。」狼回答。\n",
      "\n",
      "\n",
      "\n",
      "「奶奶，你的嘴巴怎麼大得很嚇人呀？」小紅帽問。\n",
      "\n",
      "\n",
      "\n",
      "「可以一口把你吃掉呀！」狼對小紅帽大吼。\n",
      "\n",
      "\n",
      "\n",
      "狼剛把話說完，就從床上跳起來，把小紅帽吞進了肚子，狼滿足了食欲之後便重新躺到床上睡覺，而且鼾聲震天。 \n",
      "\n",
      "\n",
      "\n",
      "一位獵人碰巧從屋前走過，心想：「這老太太鼾打得好響啊！我要進去看看她是不是出什麼事了。」\n",
      "\n",
      "\n",
      "\n",
      "獵人進了屋，來到床前時卻發現躺在那裡的竟是狼。 「你這老壞蛋，我找了你這麼久，真沒想到在這裡找到你！」他說。 \n",
      "\n",
      "\n",
      "\n",
      "他正準備向狼開槍，突然又想到，這狼很可能把奶奶吞進了肚子，奶奶也許還活著。 \n",
      "\n",
      "\n",
      "\n",
      "獵人就沒有開槍，而是操起一把剪刀，動手把呼呼大睡的狼的肚子剪了開來。 \n",
      "\n",
      "\n",
      "\n",
      "他剛剪了兩下，就看到了紅色的小帽子。 \n",
      "\n",
      "\n",
      "\n",
      "他又剪了兩下，小紅帽便跳了出來，叫道：「真把我嚇壞了！狼肚子里黑漆漆的。」\n",
      "\n",
      "\n",
      "\n",
      "接著，奶奶也活著出來了，只是有點喘不過氣來。 小紅帽趕緊跑去搬來幾塊大石頭，塞進狼的肚子。 狼醒來之後想逃走，可是那些石頭太重了，它剛站起來就跌到在地，摔死了。\n",
      "\n",
      "\n",
      "\n",
      "三個人高興極了。 獵人剝下狼皮，回家去了；奶奶吃了小紅帽帶來的蛋糕和葡萄酒，精神好多了\n",
      "\n",
      "\n",
      "\n",
      "而小紅帽卻在想：「要是媽媽不允許，我一輩子也不獨自離開大路，跑進森林了。」\n",
      "\n",
      "\n",
      "\n",
      "人們還說，小紅帽後來又有一次把蛋糕送給奶奶，而且在路上又有一隻狼跟她搭話，想騙她離開大路。 可小紅帽這次提高了警惕，頭也不回地向前走。\n",
      "\n",
      "\n",
      "\n",
      "她告訴奶奶她碰到了狼，那家伙嘴上雖然對她說\"你好\"，眼睛里卻露著凶光，要不是在大路上，它準把她給吃了。 \n",
      "\n",
      "\n",
      "\n",
      "「那麼，」奶奶說，「我們把門關緊，不讓它進來。」\n",
      "\n",
      "\n",
      "\n",
      "不一會兒，狼真的一面敲著門一面叫道：「奶奶，快開門呀。我是小紅帽，給你送蛋糕來了。」\n",
      "\n",
      "\n",
      "\n",
      "但是她們既不說話，也不開門。 這長著灰毛的家伙圍著房子轉了兩三圈，最後跳上屋頂，打算等小紅帽在傍晚回家時偷偷跟在她的後面，趁天黑把她吃掉。 \n",
      "\n",
      "\n",
      "\n",
      "可奶奶看穿了這家伙的壞心思。 \n",
      "\n",
      "\n",
      "\n",
      "她想起屋子前有一個大石頭槽子，便對小姑娘說：「小紅帽，把桶拿來。我昨天做了一些香腸，提些煮香腸的水去倒進石頭槽里。」\n",
      "\n",
      "\n",
      "\n",
      "小紅帽提了很多很多水，把那個大石頭槽子裝得滿滿的。 香腸的氣味飄進了狼的鼻孔，它使勁地用鼻子聞呀聞，並且朝下張望著，到最後把脖子伸得太長了，身子開始往下滑。\n",
      "\n",
      "\n",
      "\n",
      "它從屋頂上滑了下來，正好落在大石槽中，淹死了。 小紅帽高高興興地回了家，從此再也沒有誰傷害過她。\n"
     ]
    }
   ],
   "source": [
    "f = open(\"小紅帽.txt\", \"r\")\n",
    "#print(f.readline())\n",
    "for x in f:\n",
    "    print(x)"
   ]
  },
  {
   "cell_type": "markdown",
   "metadata": {},
   "source": [
    "### Character：\n",
    "\n",
    "['奶奶', '媽媽', '獵人', '小紅帽', '狼']\n"
   ]
  },
  {
   "cell_type": "markdown",
   "metadata": {},
   "source": [
    "### Dialogue：\n",
    "\n",
    "(\"來，小紅帽，這裡有一塊蛋糕和一瓶葡萄酒，快給奶奶送去，奶奶生病了，身子很虛弱，吃了這些就會好一些的。趁著現在天還沒有熱，趕緊動身吧。在路上要好好走，不要跑，也不要離開大路，否則你會摔跤的，那樣奶奶就什麼也吃不上了。到奶奶家的時候，別忘了說'早上好'，也不要一進屋就東瞧西瞅。\", '媽媽')\n",
    "\n",
    "('我會小心的。', '媽媽')\n",
    "\n",
    "('你好，小紅帽', '狼')\n",
    "\n",
    "('謝謝你，狼先生。', '小紅帽')\n",
    "\n",
    "('小紅帽，這麼早要到哪裡去呀？', '狼')\n",
    "\n",
    "('我要到奶奶家去。', '小紅帽')\n",
    "\n",
    "('你那圍裙下面有什麼呀？', '狼')\n",
    "\n",
    "('蛋糕和葡萄酒。昨天我們家烤了一些蛋糕，可憐的奶奶生了病，要吃一些好東西才能恢復過來。', '小紅帽')\n",
    "\n",
    "('你奶奶住在哪裡呀，小紅帽？', '狼')\n",
    "\n",
    "('進了林子還有一段路呢。她的房子就在三棵大橡樹下，低處圍著核桃樹籬笆。你一定知道的。', '小紅帽')\n",
    "\n",
    "('這小東西細皮嫩肉的，味道肯定比那老太婆要好。我要講究一下策略，讓她倆都逃不出我的手心。', '狼')\n",
    "\n",
    "('小紅帽，你看周圍這些花多麼美麗啊！幹嗎不回頭看一看呢？還有這些小鳥，它們唱得多麼動聽啊！你大概根本沒有聽到吧？林子里的一切多麼美好啊，而你卻只管往前走，就像是去上學一樣。', '小紅帽')\n",
    "\n",
    "('也許我該摘一把鮮花給奶奶，讓她高興高興。現在天色還早，我不會去遲的。', '小紅帽')\n",
    "\n",
    "('是誰呀？', '奶奶')\n",
    "\n",
    "('是小紅帽，我給你送蛋糕和葡萄酒來了。快開門哪。', '狼')\n",
    "\n",
    "('我身上沒有力氣，起不來。', '奶奶')\n",
    "\n",
    "('天哪！平常我那麼喜歡來奶奶家，今天怎麼這樣害怕？', '小紅帽')\n",
    "\n",
    "('早上好！', '小紅帽')\n",
    "\n",
    "('哎，奶奶，你的耳朵怎麼這樣大呀？', '小紅帽')\n",
    "\n",
    "('為了更好地聽你說話呀，乖乖。', '狼')\n",
    "\n",
    "('可是奶奶，你的眼睛怎麼這樣大呀？', '小紅帽')\n",
    "\n",
    "('為了更清楚地看你呀，乖乖。', '狼')\n",
    "\n",
    "('奶奶，你的手怎麼這樣大呀？', '小紅帽')\n",
    "\n",
    "('可以更好地抱著你呀。', '狼')\n",
    "\n",
    "('奶奶，你的嘴巴怎麼大得很嚇人呀？', '小紅帽')\n",
    "\n",
    "('可以一口把你吃掉呀！', '狼')\n",
    "\n",
    "('這老太太鼾打得好響啊！我要進去看看她是不是出什麼事了。', '獵人')\n",
    "\n",
    "('你這老壞蛋，我找了你這麼久，真沒想到在這裡找到你！', '獵人')\n",
    "\n",
    "('真把我嚇壞了！狼肚子里黑漆漆的。', '小紅帽')\n",
    "\n",
    "('要是媽媽不允許，我一輩子也不獨自離開大路，跑進森林了。', '小紅帽')\n",
    "\n",
    "('我們把門關緊，不讓它進來。', '奶奶')\n",
    "\n",
    "('奶奶，快開門呀。我是小紅帽，給你送蛋糕來了。', '狼')\n",
    "\n",
    "('小紅帽，把桶拿來。我昨天做了一些香腸，提些煮香腸的水去倒進石頭槽里。', '狼')\n"
   ]
  },
  {
   "cell_type": "markdown",
   "metadata": {},
   "source": [
    "### Location：\n",
    "\n",
    "['奶奶家', '家', '森林', '房子']\n"
   ]
  },
  {
   "cell_type": "markdown",
   "metadata": {},
   "source": [
    "### Event：\n",
    "\n",
    "('奶奶', '從前有個可愛的小姑娘，誰見了都喜歡，但最喜歡她的是她的奶奶，簡直是她要什麼就給她什麼')\n",
    "\n",
    "('奶奶', ' 一次，奶奶送給小姑娘一頂用絲絨做的小紅帽，戴在她的頭上正好合適')\n",
    "\n",
    "('小紅帽', ' 一次，奶奶送給小姑娘一頂用絲絨做的小紅帽，戴在她的頭上正好合適')\n",
    "\n",
    "('小紅帽', \" 從此，姑娘再也不願意戴任何別的帽子，於是大家便叫她'小紅帽'\")\n",
    "\n",
    "('奶奶', '奶奶住在村子外面的森林里，離小紅帽家有很長一段路')\n",
    "\n",
    "('小紅帽', '奶奶住在村子外面的森林里，離小紅帽家有很長一段路')\n",
    "\n",
    "('小紅帽', ' 小紅帽剛走進森林就碰到了一條狼')\n",
    "\n",
    "('狼', ' 小紅帽剛走進森林就碰到了一條狼')\n",
    "\n",
    "('小紅帽', ' 小紅帽不知道狼是壞家伙，所以一點也不怕它')\n",
    "\n",
    "('狼', ' 小紅帽不知道狼是壞家伙，所以一點也不怕它')\n",
    "\n",
    "('奶奶', '就在此時，狼卻直接跑到奶奶家，敲了敲門')\n",
    "\n",
    "('狼', '就在此時，狼卻直接跑到奶奶家，敲了敲門')\n",
    "\n",
    "('狼', '狼剛拉起門栓，那門就開了')\n",
    "\n",
    "('奶奶', ' 狼二話沒說就衝到奶奶的床前，把奶奶吞進了肚子')\n",
    "\n",
    "('狼', ' 狼二話沒說就衝到奶奶的床前，把奶奶吞進了肚子')\n",
    "\n",
    "('奶奶', ' 然後她穿上奶奶的衣服，戴上她的帽子，躺在床上，還拉上了簾子')\n",
    "\n",
    "('小紅帽', '可這時小紅帽還在跑來跑去地採花')\n",
    "\n",
    "('奶奶', ' 直到採了許多許多，她都拿不了啦，她才想起奶奶，重新上路去奶奶家')\n",
    "\n",
    "('奶奶', '看到奶奶家的屋門敞開著，小紅帽感到很奇怪')\n",
    "\n",
    "('小紅帽', '看到奶奶家的屋門敞開著，小紅帽感到很奇怪')\n",
    "\n",
    "('小紅帽', '狼剛把話說完，就從床上跳起來，把小紅帽吞進了肚子，狼滿足了食欲之後便重新躺到床上睡覺，而且鼾聲震天')\n",
    "\n",
    "('狼', '狼剛把話說完，就從床上跳起來，把小紅帽吞進了肚子，狼滿足了食欲之後便重新躺到床上睡覺，而且鼾聲震天')\n",
    "\n",
    "('奶奶', '他正準備向狼開槍，突然又想到，這狼很可能把奶奶吞進了肚子，奶奶也許還活著')\n",
    "\n",
    "('狼', '他正準備向狼開槍，突然又想到，這狼很可能把奶奶吞進了肚子，奶奶也許還活著')\n",
    "\n",
    "('獵人', '獵人就沒有開槍，而是操起一把剪刀，動手把呼呼大睡的狼的肚子剪了開來')\n",
    "\n",
    "('狼', '獵人就沒有開槍，而是操起一把剪刀，動手把呼呼大睡的狼的肚子剪了開來')\n",
    "\n",
    "('奶奶', '接著，奶奶也活著出來了，只是有點喘不過氣來')\n",
    "\n",
    "('小紅帽', ' 小紅帽趕緊跑去搬來幾塊大石頭，塞進狼的肚子')\n",
    "\n",
    "('狼', ' 小紅帽趕緊跑去搬來幾塊大石頭，塞進狼的肚子')\n",
    "\n",
    "('狼', ' 狼醒來之後想逃走，可是那些石頭太重了，它剛站起來就跌到在地，摔死了')\n",
    "\n",
    "('奶奶', ' 獵人剝下狼皮，回家去了；奶奶吃了小紅帽帶來的蛋糕和葡萄酒，精神好多了\\n')\n",
    "\n",
    "('獵人', ' 獵人剝下狼皮，回家去了；奶奶吃了小紅帽帶來的蛋糕和葡萄酒，精神好多了\\n')\n",
    "\n",
    "('小紅帽', ' 獵人剝下狼皮，回家去了；奶奶吃了小紅帽帶來的蛋糕和葡萄酒，精神好多了\\n')\n",
    "\n",
    "('狼', ' 獵人剝下狼皮，回家去了；奶奶吃了小紅帽帶來的蛋糕和葡萄酒，精神好多了\\n')\n",
    "\n",
    "('奶奶', '人們還說，小紅帽後來又有一次把蛋糕送給奶奶，而且在路上又有一隻狼跟她搭話，想騙她離開大路')\n",
    "\n",
    "('小紅帽', '人們還說，小紅帽後來又有一次把蛋糕送給奶奶，而且在路上又有一隻狼跟她搭話，想騙她離開大路')\n",
    "\n",
    "('狼', '人們還說，小紅帽後來又有一次把蛋糕送給奶奶，而且在路上又有一隻狼跟她搭話，想騙她離開大路')\n",
    "\n",
    "('小紅帽', ' 可小紅帽這次提高了警惕，頭也不回地向前走')\n",
    "\n",
    "('奶奶', '她告訴奶奶她碰到了狼，那家伙嘴上雖然對她說\"你好\"，眼睛里卻露著凶光，要不是在大路上，它準把她給吃了')\n",
    "\n",
    "('狼', '她告訴奶奶她碰到了狼，那家伙嘴上雖然對她說\"你好\"，眼睛里卻露著凶光，要不是在大路上，它準把她給吃了')\n",
    "\n",
    "('小紅帽', ' 這長著灰毛的家伙圍著房子轉了兩三圈，最後跳上屋頂，打算等小紅帽在傍晚回家時偷偷跟在她的後面，趁天黑把她吃掉')\n",
    "\n",
    "('奶奶', '可奶奶看穿了這家伙的壞心思')\n",
    "\n",
    "('小紅帽', '小紅帽提了很多很多水，把那個大石頭槽子裝得滿滿的')\n",
    "\n",
    "('狼', ' 香腸的氣味飄進了狼的鼻孔，它使勁地用鼻子聞呀聞，並且朝下張望著，到最後把脖子伸得太長了，身子開始往下滑')\n",
    "\n",
    "('小紅帽', ' 小紅帽高高興興地回了家，從此再也沒有誰傷害過她')"
   ]
  },
  {
   "cell_type": "code",
   "execution_count": null,
   "metadata": {},
   "outputs": [],
   "source": []
  }
 ],
 "metadata": {
  "kernelspec": {
   "display_name": "Python 3",
   "language": "python",
   "name": "python3"
  },
  "language_info": {
   "codemirror_mode": {
    "name": "ipython",
    "version": 3
   },
   "file_extension": ".py",
   "mimetype": "text/x-python",
   "name": "python",
   "nbconvert_exporter": "python",
   "pygments_lexer": "ipython3",
   "version": "3.6.5"
  }
 },
 "nbformat": 4,
 "nbformat_minor": 2
}
